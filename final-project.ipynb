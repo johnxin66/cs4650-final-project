{
 "cells": [
  {
   "cell_type": "code",
   "execution_count": 2,
   "metadata": {},
   "outputs": [
    {
     "name": "stderr",
     "output_type": "stream",
     "text": [
      "Using cache found in /home/yuxin/.cache/torch/hub/pytorch_fairseq_main\n",
      "2022-04-18 00:55:50 | INFO | fairseq.tasks.text_to_speech | Please install tensorboardX: pip install tensorboardX\n",
      "fatal: not a git repository (or any of the parent directories): .git\n"
     ]
    },
    {
     "name": "stdout",
     "output_type": "stream",
     "text": [
      "running build_ext\n",
      "cythoning fairseq/data/data_utils_fast.pyx to fairseq/data/data_utils_fast.cpp\n"
     ]
    },
    {
     "name": "stderr",
     "output_type": "stream",
     "text": [
      "/home/yuxin/anaconda3/envs/py38_final_project/lib/python3.8/site-packages/torch/utils/cpp_extension.py:387: UserWarning: Attempted to use ninja as the BuildExtension backend but we could not find ninja.. Falling back to using the slow distutils backend.\n",
      "  warnings.warn(msg.format('we could not find ninja.'))\n"
     ]
    },
    {
     "name": "stdout",
     "output_type": "stream",
     "text": [
      "cythoning fairseq/data/token_block_utils_fast.pyx to fairseq/data/token_block_utils_fast.cpp\n",
      "building 'fairseq.libbleu' extension\n",
      "creating build\n",
      "creating build/temp.linux-x86_64-3.8\n",
      "creating build/temp.linux-x86_64-3.8/fairseq\n",
      "creating build/temp.linux-x86_64-3.8/fairseq/clib\n",
      "creating build/temp.linux-x86_64-3.8/fairseq/clib/libbleu\n",
      "gcc -pthread -B /home/yuxin/anaconda3/envs/py38_final_project/compiler_compat -Wl,--sysroot=/ -Wsign-compare -DNDEBUG -g -fwrapv -O3 -Wall -Wstrict-prototypes -fPIC -I/home/yuxin/anaconda3/envs/py38_final_project/include/python3.8 -c fairseq/clib/libbleu/libbleu.cpp -o build/temp.linux-x86_64-3.8/fairseq/clib/libbleu/libbleu.o -std=c++11 -O3 -DTORCH_API_INCLUDE_EXTENSION_H -DPYBIND11_COMPILER_TYPE=\\\"_gcc\\\" -DPYBIND11_STDLIB=\\\"_libstdcpp\\\" -DPYBIND11_BUILD_ABI=\\\"_cxxabi1011\\\" -DTORCH_EXTENSION_NAME=libbleu -D_GLIBCXX_USE_CXX11_ABI=0\n"
     ]
    },
    {
     "name": "stderr",
     "output_type": "stream",
     "text": [
      "cc1plus: warning: command line option ‘-Wstrict-prototypes’ is valid for C/ObjC but not for C++\n"
     ]
    },
    {
     "name": "stdout",
     "output_type": "stream",
     "text": [
      "gcc -pthread -B /home/yuxin/anaconda3/envs/py38_final_project/compiler_compat -Wl,--sysroot=/ -Wsign-compare -DNDEBUG -g -fwrapv -O3 -Wall -Wstrict-prototypes -fPIC -I/home/yuxin/anaconda3/envs/py38_final_project/include/python3.8 -c fairseq/clib/libbleu/module.cpp -o build/temp.linux-x86_64-3.8/fairseq/clib/libbleu/module.o -std=c++11 -O3 -DTORCH_API_INCLUDE_EXTENSION_H -DPYBIND11_COMPILER_TYPE=\\\"_gcc\\\" -DPYBIND11_STDLIB=\\\"_libstdcpp\\\" -DPYBIND11_BUILD_ABI=\\\"_cxxabi1011\\\" -DTORCH_EXTENSION_NAME=libbleu -D_GLIBCXX_USE_CXX11_ABI=0\n",
      "creating build/lib.linux-x86_64-3.8\n",
      "creating build/lib.linux-x86_64-3.8/fairseq\n",
      "g++ -pthread -B /home/yuxin/anaconda3/envs/py38_final_project/compiler_compat -Wl,--sysroot=/ -pthread -shared -B /home/yuxin/anaconda3/envs/py38_final_project/compiler_compat -L/home/yuxin/anaconda3/envs/py38_final_project/lib -Wl,-rpath=/home/yuxin/anaconda3/envs/py38_final_project/lib -Wl,--no-as-needed -Wl,--sysroot=/ build/temp.linux-x86_64-3.8/fairseq/clib/libbleu/libbleu.o build/temp.linux-x86_64-3.8/fairseq/clib/libbleu/module.o -o build/lib.linux-x86_64-3.8/fairseq/libbleu.cpython-38-x86_64-linux-gnu.so\n"
     ]
    },
    {
     "name": "stderr",
     "output_type": "stream",
     "text": [
      "cc1plus: warning: command line option ‘-Wstrict-prototypes’ is valid for C/ObjC but not for C++\n"
     ]
    },
    {
     "name": "stdout",
     "output_type": "stream",
     "text": [
      "building 'fairseq.data.data_utils_fast' extension\n",
      "creating build/temp.linux-x86_64-3.8/fairseq/data\n",
      "gcc -pthread -B /home/yuxin/anaconda3/envs/py38_final_project/compiler_compat -Wl,--sysroot=/ -Wsign-compare -DNDEBUG -g -fwrapv -O3 -Wall -Wstrict-prototypes -fPIC -I/home/yuxin/anaconda3/envs/py38_final_project/lib/python3.8/site-packages/numpy/core/include -I/home/yuxin/anaconda3/envs/py38_final_project/lib/python3.8/site-packages/numpy/core/include -I/home/yuxin/anaconda3/envs/py38_final_project/include/python3.8 -c fairseq/data/data_utils_fast.cpp -o build/temp.linux-x86_64-3.8/fairseq/data/data_utils_fast.o -std=c++11 -O3 -DTORCH_API_INCLUDE_EXTENSION_H -DPYBIND11_COMPILER_TYPE=\\\"_gcc\\\" -DPYBIND11_STDLIB=\\\"_libstdcpp\\\" -DPYBIND11_BUILD_ABI=\\\"_cxxabi1011\\\" -DTORCH_EXTENSION_NAME=data_utils_fast -D_GLIBCXX_USE_CXX11_ABI=0\n"
     ]
    },
    {
     "name": "stderr",
     "output_type": "stream",
     "text": [
      "cc1plus: warning: command line option ‘-Wstrict-prototypes’ is valid for C/ObjC but not for C++\n",
      "In file included from /home/yuxin/anaconda3/envs/py38_final_project/lib/python3.8/site-packages/numpy/core/include/numpy/ndarraytypes.h:1960,\n",
      "                 from /home/yuxin/anaconda3/envs/py38_final_project/lib/python3.8/site-packages/numpy/core/include/numpy/ndarrayobject.h:12,\n",
      "                 from /home/yuxin/anaconda3/envs/py38_final_project/lib/python3.8/site-packages/numpy/core/include/numpy/arrayobject.h:5,\n",
      "                 from fairseq/data/data_utils_fast.cpp:701:\n",
      "/home/yuxin/anaconda3/envs/py38_final_project/lib/python3.8/site-packages/numpy/core/include/numpy/npy_1_7_deprecated_api.h:17:2: warning: #warning \"Using deprecated NumPy API, disable it with \" \"#define NPY_NO_DEPRECATED_API NPY_1_7_API_VERSION\" [-Wcpp]\n",
      "   17 | #warning \"Using deprecated NumPy API, disable it with \" \\\n",
      "      |  ^~~~~~~\n"
     ]
    },
    {
     "name": "stdout",
     "output_type": "stream",
     "text": [
      "creating build/lib.linux-x86_64-3.8/fairseq/data\n",
      "g++ -pthread -B /home/yuxin/anaconda3/envs/py38_final_project/compiler_compat -Wl,--sysroot=/ -pthread -shared -B /home/yuxin/anaconda3/envs/py38_final_project/compiler_compat -L/home/yuxin/anaconda3/envs/py38_final_project/lib -Wl,-rpath=/home/yuxin/anaconda3/envs/py38_final_project/lib -Wl,--no-as-needed -Wl,--sysroot=/ build/temp.linux-x86_64-3.8/fairseq/data/data_utils_fast.o -o build/lib.linux-x86_64-3.8/fairseq/data/data_utils_fast.cpython-38-x86_64-linux-gnu.so\n",
      "building 'fairseq.data.token_block_utils_fast' extension\n",
      "gcc -pthread -B /home/yuxin/anaconda3/envs/py38_final_project/compiler_compat -Wl,--sysroot=/ -Wsign-compare -DNDEBUG -g -fwrapv -O3 -Wall -Wstrict-prototypes -fPIC -I/home/yuxin/anaconda3/envs/py38_final_project/lib/python3.8/site-packages/numpy/core/include -I/home/yuxin/anaconda3/envs/py38_final_project/lib/python3.8/site-packages/numpy/core/include -I/home/yuxin/anaconda3/envs/py38_final_project/include/python3.8 -c fairseq/data/token_block_utils_fast.cpp -o build/temp.linux-x86_64-3.8/fairseq/data/token_block_utils_fast.o -std=c++11 -O3 -DTORCH_API_INCLUDE_EXTENSION_H -DPYBIND11_COMPILER_TYPE=\\\"_gcc\\\" -DPYBIND11_STDLIB=\\\"_libstdcpp\\\" -DPYBIND11_BUILD_ABI=\\\"_cxxabi1011\\\" -DTORCH_EXTENSION_NAME=token_block_utils_fast -D_GLIBCXX_USE_CXX11_ABI=0\n"
     ]
    },
    {
     "name": "stderr",
     "output_type": "stream",
     "text": [
      "cc1plus: warning: command line option ‘-Wstrict-prototypes’ is valid for C/ObjC but not for C++\n",
      "In file included from /home/yuxin/anaconda3/envs/py38_final_project/lib/python3.8/site-packages/numpy/core/include/numpy/ndarraytypes.h:1960,\n",
      "                 from /home/yuxin/anaconda3/envs/py38_final_project/lib/python3.8/site-packages/numpy/core/include/numpy/ndarrayobject.h:12,\n",
      "                 from /home/yuxin/anaconda3/envs/py38_final_project/lib/python3.8/site-packages/numpy/core/include/numpy/arrayobject.h:5,\n",
      "                 from fairseq/data/token_block_utils_fast.cpp:702:\n",
      "/home/yuxin/anaconda3/envs/py38_final_project/lib/python3.8/site-packages/numpy/core/include/numpy/npy_1_7_deprecated_api.h:17:2: warning: #warning \"Using deprecated NumPy API, disable it with \" \"#define NPY_NO_DEPRECATED_API NPY_1_7_API_VERSION\" [-Wcpp]\n",
      "   17 | #warning \"Using deprecated NumPy API, disable it with \" \\\n",
      "      |  ^~~~~~~\n",
      "fairseq/data/token_block_utils_fast.cpp: In function ‘PyArrayObject* __pyx_f_7fairseq_4data_22token_block_utils_fast__get_slice_indices_fast(PyArrayObject*, PyObject*, int, int, int)’:\n",
      "fairseq/data/token_block_utils_fast.cpp:3388:36: warning: comparison of integer expressions of different signedness: ‘__pyx_t_7fairseq_4data_22token_block_utils_fast_DTYPE_t’ {aka ‘long int’} and ‘size_t’ {aka ‘long unsigned int’} [-Wsign-compare]\n",
      " 3388 |       __pyx_t_4 = ((__pyx_v_sz_idx < __pyx_t_10) != 0);\n",
      "      |                     ~~~~~~~~~~~~~~~^~~~~~~~~~~~\n",
      "fairseq/data/token_block_utils_fast.cpp:3583:36: warning: comparison of integer expressions of different signedness: ‘__pyx_t_7fairseq_4data_22token_block_utils_fast_DTYPE_t’ {aka ‘long int’} and ‘size_t’ {aka ‘long unsigned int’} [-Wsign-compare]\n",
      " 3583 |       __pyx_t_3 = ((__pyx_v_sz_idx < __pyx_t_10) != 0);\n",
      "      |                     ~~~~~~~~~~~~~~~^~~~~~~~~~~~\n"
     ]
    },
    {
     "name": "stdout",
     "output_type": "stream",
     "text": [
      "g++ -pthread -B /home/yuxin/anaconda3/envs/py38_final_project/compiler_compat -Wl,--sysroot=/ -pthread -shared -B /home/yuxin/anaconda3/envs/py38_final_project/compiler_compat -L/home/yuxin/anaconda3/envs/py38_final_project/lib -Wl,-rpath=/home/yuxin/anaconda3/envs/py38_final_project/lib -Wl,--no-as-needed -Wl,--sysroot=/ build/temp.linux-x86_64-3.8/fairseq/data/token_block_utils_fast.o -o build/lib.linux-x86_64-3.8/fairseq/data/token_block_utils_fast.cpython-38-x86_64-linux-gnu.so\n",
      "building 'fairseq.libbase' extension\n",
      "creating build/temp.linux-x86_64-3.8/fairseq/clib/libbase\n",
      "gcc -pthread -B /home/yuxin/anaconda3/envs/py38_final_project/compiler_compat -Wl,--sysroot=/ -Wsign-compare -DNDEBUG -g -fwrapv -O3 -Wall -Wstrict-prototypes -fPIC -I/home/yuxin/anaconda3/envs/py38_final_project/lib/python3.8/site-packages/torch/include -I/home/yuxin/anaconda3/envs/py38_final_project/lib/python3.8/site-packages/torch/include/torch/csrc/api/include -I/home/yuxin/anaconda3/envs/py38_final_project/lib/python3.8/site-packages/torch/include/TH -I/home/yuxin/anaconda3/envs/py38_final_project/lib/python3.8/site-packages/torch/include/THC -I/home/yuxin/anaconda3/envs/py38_final_project/include/python3.8 -c fairseq/clib/libbase/balanced_assignment.cpp -o build/temp.linux-x86_64-3.8/fairseq/clib/libbase/balanced_assignment.o -DTORCH_API_INCLUDE_EXTENSION_H -DPYBIND11_COMPILER_TYPE=\\\"_gcc\\\" -DPYBIND11_STDLIB=\\\"_libstdcpp\\\" -DPYBIND11_BUILD_ABI=\\\"_cxxabi1011\\\" -DTORCH_EXTENSION_NAME=libbase -D_GLIBCXX_USE_CXX11_ABI=0 -std=c++14\n"
     ]
    },
    {
     "name": "stderr",
     "output_type": "stream",
     "text": [
      "cc1plus: warning: command line option ‘-Wstrict-prototypes’ is valid for C/ObjC but not for C++\n"
     ]
    },
    {
     "name": "stdout",
     "output_type": "stream",
     "text": [
      "g++ -pthread -B /home/yuxin/anaconda3/envs/py38_final_project/compiler_compat -Wl,--sysroot=/ -pthread -shared -B /home/yuxin/anaconda3/envs/py38_final_project/compiler_compat -L/home/yuxin/anaconda3/envs/py38_final_project/lib -Wl,-rpath=/home/yuxin/anaconda3/envs/py38_final_project/lib -Wl,--no-as-needed -Wl,--sysroot=/ build/temp.linux-x86_64-3.8/fairseq/clib/libbase/balanced_assignment.o -L/home/yuxin/anaconda3/envs/py38_final_project/lib/python3.8/site-packages/torch/lib -lc10 -ltorch -ltorch_cpu -ltorch_python -o build/lib.linux-x86_64-3.8/fairseq/libbase.cpython-38-x86_64-linux-gnu.so\n",
      "building 'fairseq.libnat' extension\n",
      "creating build/temp.linux-x86_64-3.8/fairseq/clib/libnat\n",
      "gcc -pthread -B /home/yuxin/anaconda3/envs/py38_final_project/compiler_compat -Wl,--sysroot=/ -Wsign-compare -DNDEBUG -g -fwrapv -O3 -Wall -Wstrict-prototypes -fPIC -I/home/yuxin/anaconda3/envs/py38_final_project/lib/python3.8/site-packages/torch/include -I/home/yuxin/anaconda3/envs/py38_final_project/lib/python3.8/site-packages/torch/include/torch/csrc/api/include -I/home/yuxin/anaconda3/envs/py38_final_project/lib/python3.8/site-packages/torch/include/TH -I/home/yuxin/anaconda3/envs/py38_final_project/lib/python3.8/site-packages/torch/include/THC -I/home/yuxin/anaconda3/envs/py38_final_project/include/python3.8 -c fairseq/clib/libnat/edit_dist.cpp -o build/temp.linux-x86_64-3.8/fairseq/clib/libnat/edit_dist.o -DTORCH_API_INCLUDE_EXTENSION_H -DPYBIND11_COMPILER_TYPE=\\\"_gcc\\\" -DPYBIND11_STDLIB=\\\"_libstdcpp\\\" -DPYBIND11_BUILD_ABI=\\\"_cxxabi1011\\\" -DTORCH_EXTENSION_NAME=libnat -D_GLIBCXX_USE_CXX11_ABI=0 -std=c++14\n"
     ]
    },
    {
     "name": "stderr",
     "output_type": "stream",
     "text": [
      "cc1plus: warning: command line option ‘-Wstrict-prototypes’ is valid for C/ObjC but not for C++\n"
     ]
    },
    {
     "name": "stdout",
     "output_type": "stream",
     "text": [
      "g++ -pthread -B /home/yuxin/anaconda3/envs/py38_final_project/compiler_compat -Wl,--sysroot=/ -pthread -shared -B /home/yuxin/anaconda3/envs/py38_final_project/compiler_compat -L/home/yuxin/anaconda3/envs/py38_final_project/lib -Wl,-rpath=/home/yuxin/anaconda3/envs/py38_final_project/lib -Wl,--no-as-needed -Wl,--sysroot=/ build/temp.linux-x86_64-3.8/fairseq/clib/libnat/edit_dist.o -L/home/yuxin/anaconda3/envs/py38_final_project/lib/python3.8/site-packages/torch/lib -lc10 -ltorch -ltorch_cpu -ltorch_python -o build/lib.linux-x86_64-3.8/fairseq/libnat.cpython-38-x86_64-linux-gnu.so\n",
      "building 'alignment_train_cpu_binding' extension\n",
      "creating build/temp.linux-x86_64-3.8/examples\n",
      "creating build/temp.linux-x86_64-3.8/examples/operators\n",
      "gcc -pthread -B /home/yuxin/anaconda3/envs/py38_final_project/compiler_compat -Wl,--sysroot=/ -Wsign-compare -DNDEBUG -g -fwrapv -O3 -Wall -Wstrict-prototypes -fPIC -I/home/yuxin/anaconda3/envs/py38_final_project/lib/python3.8/site-packages/torch/include -I/home/yuxin/anaconda3/envs/py38_final_project/lib/python3.8/site-packages/torch/include/torch/csrc/api/include -I/home/yuxin/anaconda3/envs/py38_final_project/lib/python3.8/site-packages/torch/include/TH -I/home/yuxin/anaconda3/envs/py38_final_project/lib/python3.8/site-packages/torch/include/THC -I/home/yuxin/anaconda3/envs/py38_final_project/include/python3.8 -c examples/operators/alignment_train_cpu.cpp -o build/temp.linux-x86_64-3.8/examples/operators/alignment_train_cpu.o -DTORCH_API_INCLUDE_EXTENSION_H -DPYBIND11_COMPILER_TYPE=\\\"_gcc\\\" -DPYBIND11_STDLIB=\\\"_libstdcpp\\\" -DPYBIND11_BUILD_ABI=\\\"_cxxabi1011\\\" -DTORCH_EXTENSION_NAME=alignment_train_cpu_binding -D_GLIBCXX_USE_CXX11_ABI=0 -std=c++14\n"
     ]
    },
    {
     "name": "stderr",
     "output_type": "stream",
     "text": [
      "cc1plus: warning: command line option ‘-Wstrict-prototypes’ is valid for C/ObjC but not for C++\n"
     ]
    },
    {
     "name": "stdout",
     "output_type": "stream",
     "text": [
      "g++ -pthread -B /home/yuxin/anaconda3/envs/py38_final_project/compiler_compat -Wl,--sysroot=/ -pthread -shared -B /home/yuxin/anaconda3/envs/py38_final_project/compiler_compat -L/home/yuxin/anaconda3/envs/py38_final_project/lib -Wl,-rpath=/home/yuxin/anaconda3/envs/py38_final_project/lib -Wl,--no-as-needed -Wl,--sysroot=/ build/temp.linux-x86_64-3.8/examples/operators/alignment_train_cpu.o -L/home/yuxin/anaconda3/envs/py38_final_project/lib/python3.8/site-packages/torch/lib -lc10 -ltorch -ltorch_cpu -ltorch_python -o build/lib.linux-x86_64-3.8/alignment_train_cpu_binding.cpython-38-x86_64-linux-gnu.so\n",
      "copying build/lib.linux-x86_64-3.8/fairseq/libbleu.cpython-38-x86_64-linux-gnu.so -> fairseq\n",
      "copying build/lib.linux-x86_64-3.8/fairseq/data/data_utils_fast.cpython-38-x86_64-linux-gnu.so -> fairseq/data\n",
      "copying build/lib.linux-x86_64-3.8/fairseq/data/token_block_utils_fast.cpython-38-x86_64-linux-gnu.so -> fairseq/data\n",
      "copying build/lib.linux-x86_64-3.8/fairseq/libbase.cpython-38-x86_64-linux-gnu.so -> fairseq\n",
      "copying build/lib.linux-x86_64-3.8/fairseq/libnat.cpython-38-x86_64-linux-gnu.so -> fairseq\n",
      "copying build/lib.linux-x86_64-3.8/alignment_train_cpu_binding.cpython-38-x86_64-linux-gnu.so -> \n"
     ]
    },
    {
     "name": "stderr",
     "output_type": "stream",
     "text": [
      "Using cache found in /home/yuxin/.cache/torch/hub/pytorch_fairseq_main\n",
      "2022-04-18 00:57:23 | INFO | fairseq.file_utils | https://dl.fbaipublicfiles.com/fairseq/models/lm/wmt19.en.tar.bz2 not found in cache, downloading to /tmp/tmpkgzq1c5l\n",
      "100%|██████████| 3617096500/3617096500 [09:49<00:00, 6140844.65B/s]\n",
      "2022-04-18 01:07:13 | INFO | fairseq.file_utils | copying /tmp/tmpkgzq1c5l to cache at /home/yuxin/.cache/torch/pytorch_fairseq/0cabe4a3e5ef7de13b205be3ab7feaf000768c332991cab28503a5464cbd5133.1194dafe66fa251b0e81fb532efac27216c501bfb0573c5d7e77e04dd6d88b15\n",
      "2022-04-18 01:07:16 | INFO | fairseq.file_utils | creating metadata file for /home/yuxin/.cache/torch/pytorch_fairseq/0cabe4a3e5ef7de13b205be3ab7feaf000768c332991cab28503a5464cbd5133.1194dafe66fa251b0e81fb532efac27216c501bfb0573c5d7e77e04dd6d88b15\n",
      "2022-04-18 01:07:16 | INFO | fairseq.file_utils | removing temp file /tmp/tmpkgzq1c5l\n",
      "2022-04-18 01:07:16 | INFO | fairseq.file_utils | loading archive file https://dl.fbaipublicfiles.com/fairseq/models/lm/wmt19.en.tar.bz2 from cache at /home/yuxin/.cache/torch/pytorch_fairseq/0cabe4a3e5ef7de13b205be3ab7feaf000768c332991cab28503a5464cbd5133.1194dafe66fa251b0e81fb532efac27216c501bfb0573c5d7e77e04dd6d88b15\n",
      "2022-04-18 01:07:16 | INFO | fairseq.file_utils | extracting archive file /home/yuxin/.cache/torch/pytorch_fairseq/0cabe4a3e5ef7de13b205be3ab7feaf000768c332991cab28503a5464cbd5133.1194dafe66fa251b0e81fb532efac27216c501bfb0573c5d7e77e04dd6d88b15 to temp dir /tmp/tmpshjni8tp\n"
     ]
    }
   ],
   "source": [
    "# Language Model\n",
    "import torch\n",
    "\n",
    "# List available models\n",
    "torch.hub.list('pytorch/fairseq')  # [..., 'transformer_lm.wmt19.en', ...]\n",
    "\n",
    "# Load an English LM trained on WMT'19 News Crawl data\n",
    "en_lm = torch.hub.load('pytorch/fairseq', 'transformer_lm.wmt19.en', tokenizer='moses', bpe='fastbpe')\n",
    "en_lm.eval()  # disable dropout\n",
    "\n",
    "# Move model to GPU\n",
    "# en_lm.cuda()\n",
    "\n",
    "# Sample from the language model\n",
    "en_lm.sample('Barack Obama', beam=1, sampling=True, sampling_topk=10, temperature=0.8)\n",
    "# \"Barack Obama is coming to Sydney and New Zealand (...)\"\n",
    "\n",
    "# Compute perplexity for a sequence\n",
    "en_lm.score('Barack Obama is coming to Sydney and New Zealand')['positional_scores'].mean().neg().exp()\n",
    "# tensor(15.1474)\n",
    "\n",
    "# The same interface can be used with custom models as well\n",
    "# from fairseq.models.transformer_lm import TransformerLanguageModel\n",
    "# custom_lm = TransformerLanguageModel.from_pretrained('/path/to/model/dir', 'checkpoint100.pt', tokenizer='moses', bpe='fastbpe')\n",
    "# custom_lm.sample('Barack Obama', beam=5)\n",
    "# \"Barack Obama (...)\""
   ]
  },
  {
   "cell_type": "code",
   "execution_count": null,
   "metadata": {},
   "outputs": [],
   "source": [
    "import os\n",
    "EN_LM_MODEL_PATH = os.path.join(os.getcwd(), \"en_lm.pt\")\n",
    "torch.save(en_lm, EN_LM_MODEL_PATH)\n",
    "DEVICE = torch.device('cuda' if torch.cuda.is_available() else 'cpu')\n",
    "en_lm = torch.load(EN_LM_MODEL_PATH, map_location=DEVICE)"
   ]
  }
 ],
 "metadata": {
  "interpreter": {
   "hash": "76cb02aca8fff344b9241781a65e75bc71e4c7bfe581d6d8d0f1a45585f46ca4"
  },
  "kernelspec": {
   "display_name": "Python 3.8.13 ('py38_final_project')",
   "language": "python",
   "name": "python3"
  },
  "language_info": {
   "codemirror_mode": {
    "name": "ipython",
    "version": 3
   },
   "file_extension": ".py",
   "mimetype": "text/x-python",
   "name": "python",
   "nbconvert_exporter": "python",
   "pygments_lexer": "ipython3",
   "version": "3.8.13"
  },
  "orig_nbformat": 4
 },
 "nbformat": 4,
 "nbformat_minor": 2
}

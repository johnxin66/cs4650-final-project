{
 "cells": [
  {
   "cell_type": "code",
   "execution_count": 6,
   "metadata": {},
   "outputs": [
    {
     "name": "stderr",
     "output_type": "stream",
     "text": [
      "2022-04-18 02:18:47 | INFO | fairseq.file_utils | loading archive file /home/yuxin/Desktop/CS4650/cs4650-final-project/wmt19.en\n",
      "2022-04-18 02:18:54 | INFO | fairseq.tasks.language_modeling | dictionary: 42022 types\n"
     ]
    },
    {
     "ename": "Error",
     "evalue": "Canceled future for execute_request message before replies were done",
     "output_type": "error",
     "traceback": [
      "Error: Canceled future for execute_request message before replies were done",
      "at t.KernelShellFutureHandler.dispose (/home/yuxin/.vscode/extensions/ms-toolsai.jupyter-2022.3.1000901801/out/extension.js:2:1204175)",
      "at /home/yuxin/.vscode/extensions/ms-toolsai.jupyter-2022.3.1000901801/out/extension.js:2:1223227",
      "at Map.forEach (<anonymous>)",
      "at v._clearKernelState (/home/yuxin/.vscode/extensions/ms-toolsai.jupyter-2022.3.1000901801/out/extension.js:2:1223212)",
      "at v.dispose (/home/yuxin/.vscode/extensions/ms-toolsai.jupyter-2022.3.1000901801/out/extension.js:2:1216694)",
      "at /home/yuxin/.vscode/extensions/ms-toolsai.jupyter-2022.3.1000901801/out/extension.js:2:533674",
      "at t.swallowExceptions (/home/yuxin/.vscode/extensions/ms-toolsai.jupyter-2022.3.1000901801/out/extension.js:2:913059)",
      "at dispose (/home/yuxin/.vscode/extensions/ms-toolsai.jupyter-2022.3.1000901801/out/extension.js:2:533652)",
      "at t.RawSession.dispose (/home/yuxin/.vscode/extensions/ms-toolsai.jupyter-2022.3.1000901801/out/extension.js:2:537330)",
      "at runMicrotasks (<anonymous>)",
      "at processTicksAndRejections (node:internal/process/task_queues:96:5)"
     ]
    }
   ],
   "source": [
    "# Language Model\n",
    "import torch\n",
    "import os\n",
    "EN_LM_MODEL_PATH = os.path.join(os.getcwd(), \"wmt19.en\")\n",
    "DE_LM_MODEL_PATH = os.path.join(os.getcwd(), \"wmt19.de\")\n",
    "DEVICE = torch.device('cuda' if torch.cuda.is_available() else 'cpu')\n",
    "\n",
    "from fairseq.models.transformer_lm import TransformerLanguageModel\n",
    "en_lm = TransformerLanguageModel.from_pretrained(EN_LM_MODEL_PATH, 'model.pt', tokenizer='moses', bpe='fastbpe')\n",
    "en_lm.sample('Barack Obama', beam=5)\n",
    "de_lm = TransformerLanguageModel.from_pretrained(DE_LM_MODEL_PATH, 'model.pt', tokenizer='moses', bpe='fastbpe')\n",
    "de_lm.sample('Barack Obama', beam=5)\n",
    "# \"Barack Obama (...)\"\n",
    "\n",
    "# # Move model to GPU\n",
    "# # en_lm.cuda()\n",
    "\n",
    "# # Sample from the language model\n",
    "# en_lm.sample('Barack Obama', beam=1, sampling=True, sampling_topk=10, temperature=0.8)\n",
    "# # \"Barack Obama is coming to Sydney and New Zealand (...)\"\n",
    "\n",
    "# # Compute perplexity for a sequence\n",
    "# en_lm.score('Barack Obama is coming to Sydney and New Zealand')['positional_scores'].mean().neg().exp()\n",
    "# # tensor(15.1474)\n",
    "\n",
    "# # The same interface can be used with custom models as well\n",
    "# # from fairseq.models.transformer_lm import TransformerLanguageModel\n",
    "# # custom_lm = TransformerLanguageModel.from_pretrained('/path/to/model/dir', 'checkpoint100.pt', tokenizer='moses', bpe='fastbpe')\n",
    "# # custom_lm.sample('Barack Obama', beam=5)\n",
    "# # \"Barack Obama (...)\""
   ]
  },
  {
   "cell_type": "code",
   "execution_count": null,
   "metadata": {},
   "outputs": [],
   "source": []
  }
 ],
 "metadata": {
  "interpreter": {
   "hash": "76cb02aca8fff344b9241781a65e75bc71e4c7bfe581d6d8d0f1a45585f46ca4"
  },
  "kernelspec": {
   "display_name": "Python 3.8.13 ('py38_final_project')",
   "language": "python",
   "name": "python3"
  },
  "language_info": {
   "codemirror_mode": {
    "name": "ipython",
    "version": 3
   },
   "file_extension": ".py",
   "mimetype": "text/x-python",
   "name": "python",
   "nbconvert_exporter": "python",
   "pygments_lexer": "ipython3",
   "version": "3.8.13"
  },
  "orig_nbformat": 4
 },
 "nbformat": 4,
 "nbformat_minor": 2
}
